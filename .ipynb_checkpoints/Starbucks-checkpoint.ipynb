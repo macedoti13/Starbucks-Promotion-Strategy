{
 "cells": [
  {
   "cell_type": "markdown",
   "id": "3d61a835",
   "metadata": {},
   "source": [
    "# Starbucks\n",
    "\n",
    "<br>\n",
    "\n",
    "<img src=\"https://opj.ca/wp-content/uploads/2018/02/New-Starbucks-Logo-1200x969.jpg\" width=\"200\" height=\"200\">\n",
    "<br>\n",
    "<br>\n",
    " \n",
    "#### Background Information\n",
    "\n",
    "The dataset you will be provided in this portfolio exercise was originally used as a take-home assignment provided by Starbucks for their job candidates. The data for this exercise consists of about 120,000 data points split in a 2:1 ratio among training and test files. In the experiment simulated by the data, an advertising promotion was tested to see if it would bring more customers to purchase a specific product priced at $10. Since it costs the company 0.15 to send out each promotion, it would be best to limit that promotion only to those that are most receptive to the promotion. Each data point includes one column indicating whether or not an individual was sent a promotion for the product, and one column indicating whether or not that individual eventually purchased that product. Each individual also has seven additional features associated with them, which are provided abstractly as V1-V7.\n",
    "\n",
    "#### Optimization Strategy\n",
    "\n",
    "Your task is to use the training data to understand what patterns in V1-V7 to indicate that a promotion should be provided to a user. Specifically, your goal is to maximize the following metrics:\n",
    "\n",
    "* **Incremental Response Rate (IRR)** \n",
    "\n",
    "IRR depicts how many more customers purchased the product with the promotion, as compared to if they didn't receive the promotion. Mathematically, it's the ratio of the number of purchasers in the promotion group to the total number of customers in the purchasers group (_treatment_) minus the ratio of the number of purchasers in the non-promotional group to the total number of customers in the non-promotional group (_control_).\n",
    "\n",
    "$$ IRR = \\frac{purch_{treat}}{cust_{treat}} - \\frac{purch_{ctrl}}{cust_{ctrl}} $$\n",
    "\n",
    "\n",
    "* **Net Incremental Revenue (NIR)**\n",
    "\n",
    "NIR depicts how much is made (or lost) by sending out the promotion. Mathematically, this is 10 times the total number of purchasers that received the promotion minus 0.15 times the number of promotions sent out, minus 10 times the number of purchasers who were not given the promotion.\n",
    "\n",
    "$$ NIR = (10\\cdot purch_{treat} - 0.15 \\cdot cust_{treat}) - 10 \\cdot purch_{ctrl}$$\n",
    "\n",
    "For a full description of what Starbucks provides to candidates see the [instructions available here](https://drive.google.com/open?id=18klca9Sef1Rs6q8DW4l7o349r8B70qXM).\n",
    "\n",
    "Below you can find the training data provided.  Explore the data and different optimization strategies.\n",
    "\n",
    "#### How To Test Your Strategy?\n",
    "\n",
    "When you feel like you have an optimization strategy, complete the `promotion_strategy` function to pass to the `test_results` function.  \n",
    "From past data, we know there are four possible outomes:\n",
    "\n",
    "Table of actual promotion vs. predicted promotion customers:  \n",
    "\n",
    "<table>\n",
    "<tr><th></th><th colspan = '2'>Actual</th></tr>\n",
    "<tr><th>Predicted</th><th>Yes</th><th>No</th></tr>\n",
    "<tr><th>Yes</th><td>I</td><td>II</td></tr>\n",
    "<tr><th>No</th><td>III</td><td>IV</td></tr>\n",
    "</table>\n",
    "\n",
    "The metrics are only being compared for the individuals we predict should obtain the promotion – that is, quadrants I and II.  Since the first set of individuals that receive the promotion (in the training set) receive it randomly, we can expect that quadrants I and II will have approximately equivalent participants.  \n",
    "\n",
    "Comparing quadrant I to II then gives an idea of how well your promotion strategy will work in the future. \n",
    "\n",
    "Get started by reading in the data below.  See how each variable or combination of variables along with a promotion influences the chance of purchasing.  When you feel like you have a strategy for who should receive a promotion, test your strategy against the test dataset used in the final `test_results` function."
   ]
  },
  {
   "cell_type": "markdown",
   "id": "e906cb1e",
   "metadata": {},
   "source": [
    "## My Observations:\n",
    "\n",
    "Since I wan't to maximize both `IRR` and `NIR`, I need to minimize the **Type 1 Errors**, that is, sending the least amount of promotions to people that won't buy the product. The endgoal is to build a classification model to decide who will receive the information."
   ]
  },
  {
   "cell_type": "markdown",
   "id": "1596f62f",
   "metadata": {},
   "source": [
    "## Importing Libs and Reading Data"
   ]
  },
  {
   "cell_type": "code",
   "execution_count": null,
   "id": "412cbcc8",
   "metadata": {},
   "outputs": [],
   "source": [
    "# importing libs\n",
    "from test_results import test_results, score # scripts for testing\n",
    "from itertools import combinations\n",
    "import numpy as np\n",
    "import pandas as pd\n",
    "import scipy as sp\n",
    "import matplotlib.pyplot as plt\n",
    "import seaborn as sns\n",
    "\n",
    "from sklearn.linear_model import LogisticRegression\n",
    "from sklearn.model_selection import GridSearchCV, train_test_split\n",
    "from sklearn.metrics import classification_report, confusion_matrix\n",
    "from sklearn.preprocessing import MinMaxScaler\n",
    "from sklearn.pipeline import Pipeline\n",
    "from sklearn import svm\n",
    "from imblearn.over_sampling import SMOTE\n",
    "\n",
    "%matplotlib inline"
   ]
  },
  {
   "cell_type": "code",
   "execution_count": null,
   "id": "271bde78",
   "metadata": {
    "scrolled": true
   },
   "outputs": [],
   "source": [
    "# reading data\n",
    "df = pd.read_csv('training.csv')\n",
    "df.head()"
   ]
  },
  {
   "cell_type": "code",
   "execution_count": null,
   "id": "4fab762d",
   "metadata": {},
   "outputs": [],
   "source": [
    "df.info()"
   ]
  },
  {
   "cell_type": "markdown",
   "id": "f967506a",
   "metadata": {},
   "source": [
    "**Observations**\n",
    "- There aren't any nulls in the data (that's good)\n",
    "- The only object type column is `Promotion` (going to change that to binary)"
   ]
  },
  {
   "cell_type": "markdown",
   "id": "463b54d8",
   "metadata": {},
   "source": [
    "## Fixing Data"
   ]
  },
  {
   "cell_type": "code",
   "execution_count": null,
   "id": "8ab13c14",
   "metadata": {},
   "outputs": [],
   "source": [
    "# fixing the promotion column\n",
    "df.Promotion.value_counts()"
   ]
  },
  {
   "cell_type": "markdown",
   "id": "9a60f241",
   "metadata": {},
   "source": [
    "Ok, pretty balanced proportions"
   ]
  },
  {
   "cell_type": "code",
   "execution_count": null,
   "id": "e7ec2a57",
   "metadata": {},
   "outputs": [],
   "source": [
    "# applying lambda function to turn it into binary\n",
    "df.Promotion = df.Promotion.apply(lambda x: 0 if x=='No' else 1)\n",
    "df.Promotion.value_counts()"
   ]
  },
  {
   "cell_type": "markdown",
   "id": "6a0eb26b",
   "metadata": {},
   "source": [
    "Good, Let's now explore the data"
   ]
  },
  {
   "cell_type": "markdown",
   "id": "5676860a",
   "metadata": {},
   "source": [
    "## EDA"
   ]
  },
  {
   "cell_type": "markdown",
   "id": "ccda9093",
   "metadata": {},
   "source": [
    "First, let's create different dataframes for each group and explore them individually"
   ]
  },
  {
   "cell_type": "code",
   "execution_count": null,
   "id": "4cbc8d12",
   "metadata": {},
   "outputs": [],
   "source": [
    "# customers who got the promotion and bought the product (promotion worked)\n",
    "exp_yes = df.query(\"Promotion == 1 and purchase == 1\")\n",
    "exp_yes.head()"
   ]
  },
  {
   "cell_type": "code",
   "execution_count": null,
   "id": "215dddc3",
   "metadata": {},
   "outputs": [],
   "source": [
    "# customers who got the promotion and didn't buy the product (type 1 errors)\n",
    "exp_no = df.query(\"Promotion == 1 and purchase == 0\")\n",
    "exp_no.head()"
   ]
  },
  {
   "cell_type": "code",
   "execution_count": null,
   "id": "19da6cf4",
   "metadata": {},
   "outputs": [],
   "source": [
    "# customers that didn't get the promotion and bought the product (type 2 errors)\n",
    "con_yes = df.query(\"Promotion == 0 and purchase == 1\")\n",
    "con_yes.head()"
   ]
  },
  {
   "cell_type": "code",
   "execution_count": null,
   "id": "f6c51aa8",
   "metadata": {},
   "outputs": [],
   "source": [
    "# customers that didn't get the promotion and didn't buy the product\n",
    "con_no = df.query(\"Promotion == 0 and purchase == 0\")\n",
    "con_no.head()"
   ]
  },
  {
   "cell_type": "markdown",
   "id": "18b935d1",
   "metadata": {},
   "source": [
    "Ok, now that the dataframes are created let's explore and discover how was starbuck managing it's promotions"
   ]
  },
  {
   "cell_type": "markdown",
   "id": "506a582d",
   "metadata": {},
   "source": [
    "### 1: Characteristics of customers "
   ]
  },
  {
   "cell_type": "code",
   "execution_count": null,
   "id": "e3487ed4",
   "metadata": {
    "scrolled": false
   },
   "outputs": [],
   "source": [
    "fig, ax = plt.subplots(2,2, figsize=(12,10))\n",
    "\n",
    "sns.countplot(data=exp_yes, x='V1', ax=ax[0,0],edgecolor='black', palette='Set1')\n",
    "ax[0,0].set_title('Got promotion and Bought')\n",
    "\n",
    "sns.countplot(data=exp_no, x='V1', ax=ax[0,1],edgecolor='black', palette='Set1')\n",
    "ax[0,1].set_title('Got promotion and didn\\'t Buy')\n",
    "\n",
    "sns.countplot(data=con_yes, x='V1', ax=ax[1,0],edgecolor='black', palette='Set1')\n",
    "ax[1,0].set_title('Didn\\'t get promotion and Bought')\n",
    "ax[1,0].set_ylim([0, 300])\n",
    "\n",
    "sns.countplot(data=con_no, x='V1', ax=ax[1,1],edgecolor='black', palette='Set1')\n",
    "ax[1,1].set_title('Didn\\'t get promotion and didn\\'t Buy')\n",
    "    \n",
    "plt.show()"
   ]
  },
  {
   "cell_type": "markdown",
   "id": "c26921fa",
   "metadata": {},
   "source": [
    "**Observations**\n",
    "- Not much to see here, only that the people who bought tend to have a significant difference between values 1 and 2"
   ]
  },
  {
   "cell_type": "code",
   "execution_count": null,
   "id": "c9e42382",
   "metadata": {
    "scrolled": false
   },
   "outputs": [],
   "source": [
    "fig, ax = plt.subplots(2,2, figsize=(12,10))\n",
    "\n",
    "sns.histplot(data=exp_yes, x='V2', ax=ax[0,0], kde=True)\n",
    "ax[0,0].set_title('Got promotion and Bought')\n",
    "ax[0,0].set_xlabel(f'mean:{round(exp_yes.V2.mean(),2)}, std:{round(exp_yes.V2.std(),2)}')\n",
    "\n",
    "sns.histplot(data=exp_no, x='V2', ax=ax[0,1], kde=True)\n",
    "ax[0,1].set_title('Got promotion and didn\\'t Buy')\n",
    "ax[0,1].set_xlabel(f'mean:{round(exp_no.V2.mean(),2)}, std:{round(exp_no.V2.std(),2)}')\n",
    "\n",
    "sns.histplot(data=con_yes, x='V2', ax=ax[1,0], kde=True)\n",
    "ax[1,0].set_title('Didn\\'t get promotion and Bought')\n",
    "ax[1,0].set_xlabel(f'mean:{round(con_yes.V2.mean(),2)}, std:{round(con_yes.V2.std(),2)}')\n",
    "\n",
    "sns.histplot(data=con_no, x='V2', ax=ax[1,1], kde=True)\n",
    "ax[1,1].set_title(f'Didn\\'t get promotion and didn\\'t Buy')\n",
    "ax[1,1].set_xlabel(f'mean:{round(con_no.V2.mean(),2)}, std:{round(con_no.V2.std(),2)}')\n",
    "    \n",
    "plt.show()"
   ]
  },
  {
   "cell_type": "markdown",
   "id": "66fa493c",
   "metadata": {},
   "source": [
    "**Observations**\n",
    "- Basically all of the groups follow the same normal distribution"
   ]
  },
  {
   "cell_type": "code",
   "execution_count": null,
   "id": "0f33ee82",
   "metadata": {},
   "outputs": [],
   "source": [
    "fig, ax = plt.subplots(2,2, figsize=(12,10))\n",
    "\n",
    "sns.histplot(data=exp_yes, x='V3', ax=ax[0,0], kde=True, bins=20)\n",
    "ax[0,0].set_title('Got promotion and Bought')\n",
    "ax[0,0].set_xlabel(f'mean:{round(exp_yes.V3.mean(),2)}, std:{round(exp_yes.V3.std(),2)}')\n",
    "\n",
    "sns.histplot(data=exp_no, x='V3', ax=ax[0,1], kde=True, bins=20)\n",
    "ax[0,1].set_title('Got promotion and didn\\'t Buy')\n",
    "ax[0,1].set_xlabel(f'mean:{round(exp_no.V3.mean(),2)}, std:{round(exp_no.V3.std(),2)}')\n",
    "\n",
    "sns.histplot(data=con_yes, x='V3', ax=ax[1,0], kde=True, bins=20)\n",
    "ax[1,0].set_title('Didn\\'t get promotion and Bought')\n",
    "ax[1,0].set_xlabel(f'mean:{round(con_yes.V3.mean(),2)}, std:{round(con_yes.V3.std(),2)}')\n",
    "\n",
    "sns.histplot(data=con_no, x='V3', ax=ax[1,1], kde=True, bins=20)\n",
    "ax[1,1].set_title(f'Didn\\'t get promotion and didn\\'t Buy')\n",
    "ax[1,1].set_xlabel(f'mean:{round(con_no.V3.mean(),2)}, std:{round(con_no.V3.std(),2)}')\n",
    "    \n",
    "plt.show()"
   ]
  },
  {
   "cell_type": "markdown",
   "id": "2243881c",
   "metadata": {},
   "source": [
    "**Observations**\n",
    "- Customers who didn't buy the product are basically homogeneous with this feature and have the std as 1\n",
    "- Customers who bought the product tend to have different results"
   ]
  },
  {
   "cell_type": "code",
   "execution_count": null,
   "id": "526bb3e2",
   "metadata": {},
   "outputs": [],
   "source": [
    "fig, ax = plt.subplots(2,2, figsize=(12,10))\n",
    "\n",
    "sns.countplot(data=exp_yes, x='V4', ax=ax[0,0],edgecolor='black', palette='Set1')\n",
    "ax[0,0].set_title('Got promotion and Bought')\n",
    "\n",
    "sns.countplot(data=exp_no, x='V4', ax=ax[0,1],edgecolor='black', palette='Set1')\n",
    "ax[0,1].set_title('Got promotion and didn\\'t Buy')\n",
    "\n",
    "sns.countplot(data=con_yes, x='V4', ax=ax[1,0],edgecolor='black', palette='Set1')\n",
    "ax[1,0].set_title('Didn\\'t get promotion and Bought')\n",
    "ax[1,0].set_ylim([0, 300])\n",
    "\n",
    "sns.countplot(data=con_no, x='V4', ax=ax[1,1],edgecolor='black', palette='Set1')\n",
    "ax[1,1].set_title('Didn\\'t get promotion and didn\\'t Buy')\n",
    "    \n",
    "plt.show()"
   ]
  },
  {
   "cell_type": "markdown",
   "id": "aa571cca",
   "metadata": {},
   "source": [
    "**Observations**\n",
    "- Not much to see here, all groups are basically the same"
   ]
  },
  {
   "cell_type": "code",
   "execution_count": null,
   "id": "8981224c",
   "metadata": {},
   "outputs": [],
   "source": [
    "fig, ax = plt.subplots(2,2, figsize=(12,10))\n",
    "\n",
    "sns.countplot(data=exp_yes, x='V5', ax=ax[0,0],edgecolor='black', palette='Set1')\n",
    "ax[0,0].set_title('Got promotion and Bought')\n",
    "\n",
    "sns.countplot(data=exp_no, x='V5', ax=ax[0,1],edgecolor='black', palette='Set1')\n",
    "ax[0,1].set_title('Got promotion and didn\\'t Buy')\n",
    "\n",
    "sns.countplot(data=con_yes, x='V5', ax=ax[1,0],edgecolor='black', palette='Set1')\n",
    "ax[1,0].set_title('Didn\\'t get promotion and Bought')\n",
    "ax[1,0].set_ylim([0, 300])\n",
    "\n",
    "sns.countplot(data=con_no, x='V5', ax=ax[1,1],edgecolor='black', palette='Set1')\n",
    "ax[1,1].set_title('Didn\\'t get promotion and didn\\'t Buy')\n",
    "    \n",
    "plt.show()"
   ]
  },
  {
   "cell_type": "markdown",
   "id": "fc78d6a0",
   "metadata": {},
   "source": [
    "**Observations**\n",
    "- Except for the spike in category 3 for people who bought it, they all look the same"
   ]
  },
  {
   "cell_type": "code",
   "execution_count": null,
   "id": "c5375f23",
   "metadata": {},
   "outputs": [],
   "source": [
    "fig, ax = plt.subplots(2,2, figsize=(12,10))\n",
    "\n",
    "sns.countplot(data=exp_yes, x='V6', ax=ax[0,0],edgecolor='black', palette='Set1')\n",
    "ax[0,0].set_title('Got promotion and Bought')\n",
    "\n",
    "sns.countplot(data=exp_no, x='V6', ax=ax[0,1],edgecolor='black', palette='Set1')\n",
    "ax[0,1].set_title('Got promotion and didn\\'t Buy')\n",
    "\n",
    "sns.countplot(data=con_yes, x='V6', ax=ax[1,0],edgecolor='black', palette='Set1')\n",
    "ax[1,0].set_title('Didn\\'t get promotion and Bought')\n",
    "ax[1,0].set_ylim([0, 300])\n",
    "\n",
    "sns.countplot(data=con_no, x='V6', ax=ax[1,1],edgecolor='black', palette='Set1')\n",
    "ax[1,1].set_title('Didn\\'t get promotion and didn\\'t Buy')\n",
    "    \n",
    "plt.show()"
   ]
  },
  {
   "cell_type": "markdown",
   "id": "7adc564e",
   "metadata": {},
   "source": [
    "**Observations**\n",
    "- Again, no much information from this chart"
   ]
  },
  {
   "cell_type": "code",
   "execution_count": null,
   "id": "bad16107",
   "metadata": {
    "scrolled": false
   },
   "outputs": [],
   "source": [
    "fig, ax = plt.subplots(2,2, figsize=(12,10))\n",
    "\n",
    "sns.countplot(data=exp_yes, x='V7', ax=ax[0,0],edgecolor='black', palette='Set1')\n",
    "ax[0,0].set_title('Got promotion and Bought')\n",
    "\n",
    "sns.countplot(data=exp_no, x='V7', ax=ax[0,1],edgecolor='black', palette='Set1')\n",
    "ax[0,1].set_title('Got promotion and didn\\'t Buy')\n",
    "\n",
    "sns.countplot(data=con_yes, x='V7', ax=ax[1,0],edgecolor='black', palette='Set1')\n",
    "ax[1,0].set_title('Didn\\'t get promotion and Bought')\n",
    "ax[1,0].set_ylim([0, 300])\n",
    "\n",
    "sns.countplot(data=con_no, x='V7', ax=ax[1,1],edgecolor='black', palette='Set1')\n",
    "ax[1,1].set_title('Didn\\'t get promotion and didn\\'t Buy')\n",
    "    \n",
    "plt.show()"
   ]
  },
  {
   "cell_type": "markdown",
   "id": "5d6589c1",
   "metadata": {},
   "source": [
    "**Observations**\n",
    "- Again, no much information from this chart"
   ]
  },
  {
   "cell_type": "markdown",
   "id": "8fdabb90",
   "metadata": {},
   "source": [
    "## Checking for Feature Correlations"
   ]
  },
  {
   "cell_type": "code",
   "execution_count": null,
   "id": "ada2c584",
   "metadata": {},
   "outputs": [],
   "source": [
    "plt.figure(figsize=(10,8))\n",
    "sns.heatmap(df[['V1', 'V2', 'V3', 'V4', 'V5', 'V6', 'V7']].corr(), annot=True, fmt='.4f')\n",
    "plt.show()"
   ]
  },
  {
   "cell_type": "markdown",
   "id": "e7aed850",
   "metadata": {},
   "source": [
    "Ok, features are highly uncorrelated. That's a very big problem."
   ]
  },
  {
   "cell_type": "markdown",
   "id": "17cad4ac",
   "metadata": {},
   "source": [
    "## Modeling"
   ]
  },
  {
   "cell_type": "markdown",
   "id": "f425ce8c",
   "metadata": {},
   "source": [
    "### 1. One-Hot Encoding Categorical Features"
   ]
  },
  {
   "cell_type": "code",
   "execution_count": null,
   "id": "29b03024",
   "metadata": {},
   "outputs": [],
   "source": [
    "df_dummies = pd.get_dummies(df, columns=['V1', 'V4', 'V5', 'V6', 'V7'])\n",
    "df_dummies.head()"
   ]
  },
  {
   "cell_type": "markdown",
   "id": "bc586d57",
   "metadata": {},
   "source": [
    "### 2. Dividing dataset into training and testing splits"
   ]
  },
  {
   "cell_type": "code",
   "execution_count": null,
   "id": "3fce9cc3",
   "metadata": {},
   "outputs": [],
   "source": [
    "x = df_dummies.iloc[:, 3:]\n",
    "y = df_dummies.purchase\n",
    "\n",
    "sm = SMOTE(random_state=42)\n",
    "x, y = sm.fit_resample(x, y)\n",
    "\n",
    "\n",
    "x_train, x_test, y_train, y_test = train_test_split(x, y, test_size=.3, random_state=42)\n",
    "\n",
    "print(x_train.shape)\n",
    "print(x_test.shape)"
   ]
  },
  {
   "cell_type": "markdown",
   "id": "ac98ed80",
   "metadata": {},
   "source": [
    "### 3. Creating Pipeline"
   ]
  },
  {
   "cell_type": "code",
   "execution_count": null,
   "id": "2f96616a",
   "metadata": {},
   "outputs": [],
   "source": [
    "pipe = Pipeline([\n",
    "    ('scaler', MinMaxScaler()),\n",
    "    ('model', LogisticRegression())\n",
    "])\n",
    "\n",
    "param_grid = {'model__C': np.logspace(-4, 4, 20),\n",
    "              'model__solver': ['liblinear'],\n",
    "              'model__penalty': ['l1', 'l2'],\n",
    "              'model__max_iter': [500]}\n",
    "\n",
    "clf = GridSearchCV(pipe, param_grid)"
   ]
  },
  {
   "cell_type": "markdown",
   "id": "4ff5c565",
   "metadata": {},
   "source": [
    "### 4. Fitting pipeline to training data"
   ]
  },
  {
   "cell_type": "code",
   "execution_count": null,
   "id": "c84c13c6",
   "metadata": {},
   "outputs": [],
   "source": [
    "best_clf = clf.fit(x_train, y_train)"
   ]
  },
  {
   "cell_type": "markdown",
   "id": "fcb423c1",
   "metadata": {},
   "source": [
    "### 5. Testing and Evaluating"
   ]
  },
  {
   "cell_type": "code",
   "execution_count": null,
   "id": "d68ccad4",
   "metadata": {},
   "outputs": [],
   "source": [
    "yhat = best_clf.predict(x_test)\n",
    "print(classification_report(y_test, yhat, zero_division=0))\n",
    "sns.heatmap(confusion_matrix(y_test, yhat), annot=True);"
   ]
  }
 ],
 "metadata": {
  "kernelspec": {
   "display_name": "Python 3 (ipykernel)",
   "language": "python",
   "name": "python3"
  },
  "language_info": {
   "codemirror_mode": {
    "name": "ipython",
    "version": 3
   },
   "file_extension": ".py",
   "mimetype": "text/x-python",
   "name": "python",
   "nbconvert_exporter": "python",
   "pygments_lexer": "ipython3",
   "version": "3.9.7"
  }
 },
 "nbformat": 4,
 "nbformat_minor": 5
}
